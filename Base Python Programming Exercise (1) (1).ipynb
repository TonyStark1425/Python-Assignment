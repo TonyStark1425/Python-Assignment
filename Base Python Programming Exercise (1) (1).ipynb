{
 "cells": [
  {
   "cell_type": "markdown",
   "metadata": {},
   "source": [
    "## Python Basic Programming Exercises"
   ]
  },
  {
   "cell_type": "raw",
   "metadata": {},
   "source": [
    "Q1: What is the output of following expression\n",
    "    5 + 4 * 9 % (3 + 1) / 6 - 1"
   ]
  },
  {
   "cell_type": "code",
   "execution_count": 1,
   "metadata": {},
   "outputs": [
    {
     "name": "stdout",
     "output_type": "stream",
     "text": [
      "Result =  4.0\n"
     ]
    }
   ],
   "source": [
    "x = 5 + 4 * 9 % (3 + 1) / 6 -1\n",
    "print(\"Result = \", x)"
   ]
  },
  {
   "cell_type": "raw",
   "metadata": {},
   "source": [
    "Q2: Write a program to check if a Number is Odd or Even. Take number as a input from user at runtime."
   ]
  },
  {
   "cell_type": "code",
   "execution_count": 3,
   "metadata": {},
   "outputs": [
    {
     "name": "stdin",
     "output_type": "stream",
     "text": [
      "Enter a number:  7\n"
     ]
    },
    {
     "name": "stdout",
     "output_type": "stream",
     "text": [
      "7 is odd\n"
     ]
    }
   ],
   "source": [
    "n = int(input(\"Enter a number: \"))\n",
    "if n%2==0:\n",
    "    print(f\"{n} is even\")\n",
    "else:\n",
    "    print(f\"{n} is odd\")"
   ]
  },
  {
   "cell_type": "raw",
   "metadata": {},
   "source": [
    "Q3: Write a program to display the multiplication table by taking a number as input. \n",
    "    [Hint : Use print statement inside of a loop]"
   ]
  },
  {
   "cell_type": "code",
   "execution_count": 7,
   "metadata": {},
   "outputs": [
    {
     "name": "stdin",
     "output_type": "stream",
     "text": [
      "Enter a  number:  7\n"
     ]
    },
    {
     "name": "stdout",
     "output_type": "stream",
     "text": [
      "7 * i =  7\n",
      "7 * i =  14\n",
      "7 * i =  21\n",
      "7 * i =  28\n",
      "7 * i =  35\n",
      "7 * i =  42\n",
      "7 * i =  49\n",
      "7 * i =  56\n",
      "7 * i =  63\n",
      "7 * i =  70\n"
     ]
    }
   ],
   "source": [
    "x = int(input(\"Enter a  number: \"))\n",
    "for i in range(1,11):\n",
    "    print(f\"{x} * i = \",x*i)"
   ]
  },
  {
   "cell_type": "raw",
   "metadata": {},
   "source": [
    "Q4: Write a program which will find all numbers between 2000 and 3200 which are divisible by 7 \n",
    "    but are not a multiple of 5.\n",
    " \n",
    "Note: The numbers obtained should be printed in a comma-separated sequence on a single line."
   ]
  },
  {
   "cell_type": "code",
   "execution_count": 12,
   "metadata": {},
   "outputs": [
    {
     "name": "stdout",
     "output_type": "stream",
     "text": [
      "2002,2009,2016,2023,2037,2044,2051,2058,2072,2079,2086,2093,2107,2114,2121,2128,2142,2149,2156,2163,2177,2184,2191,2198,2212,2219,2226,2233,2247,2254,2261,2268,2282,2289,2296,2303,2317,2324,2331,2338,2352,2359,2366,2373,2387,2394,2401,2408,2422,2429,2436,2443,2457,2464,2471,2478,2492,2499,2506,2513,2527,2534,2541,2548,2562,2569,2576,2583,2597,2604,2611,2618,2632,2639,2646,2653,2667,2674,2681,2688,2702,2709,2716,2723,2737,2744,2751,2758,2772,2779,2786,2793,2807,2814,2821,2828,2842,2849,2856,2863,2877,2884,2891,2898,2912,2919,2926,2933,2947,2954,2961,2968,2982,2989,2996,3003,3017,3024,3031,3038,3052,3059,3066,3073,3087,3094,3101,3108,3122,3129,3136,3143,3157,3164,3171,3178,3192,3199,"
     ]
    }
   ],
   "source": [
    "for i in range(2000,3201):\n",
    "    if(i%7==0 and i%5!=0):\n",
    "        print(i,end=\",\")\n",
    "    "
   ]
  },
  {
   "cell_type": "raw",
   "metadata": {},
   "source": [
    "Q5: Count the elements of each datatype inside the list and display in output\n",
    "    [2, 3, 'Py', '10', 1, 'SQL', 5.5, True, 3, 'John', None, 7]    "
   ]
  },
  {
   "cell_type": "code",
   "execution_count": 1,
   "metadata": {},
   "outputs": [
    {
     "name": "stdout",
     "output_type": "stream",
     "text": [
      "{<class 'int'>: 5, <class 'str'>: 4, <class 'float'>: 1, <class 'bool'>: 1, <class 'NoneType'>: 1}\n"
     ]
    }
   ],
   "source": [
    "data = [2, 3, 'Py', '10', 1, 'SQL', 5.5, True, 3, 'John', None, 7]\n",
    "\n",
    "type_count = {}\n",
    "\n",
    "for item in data:\n",
    "    item_type = type(item)\n",
    "    if item_type in type_count:\n",
    "        type_count[item_type] += 1\n",
    "    else:\n",
    "        type_count[item_type] = 1\n",
    "\n",
    "print(type_count)\n"
   ]
  },
  {
   "cell_type": "raw",
   "metadata": {},
   "source": [
    "Q6: Add all values from the list with numeric datatypes \n",
    "    [2, 3, 'Py', '10', 1, 'SQL', 5.5, True, 3, 'John', None, 7] "
   ]
  },
  {
   "cell_type": "code",
   "execution_count": 3,
   "metadata": {},
   "outputs": [
    {
     "name": "stdout",
     "output_type": "stream",
     "text": [
      "22.5\n"
     ]
    }
   ],
   "source": [
    "data = [2, 3, 'Py', '10', 1, 'SQL', 5.5, True, 3, 'John', None, 7]\n",
    "\n",
    "total_sum = sum(item for item in data if isinstance(item, (int, float)))\n",
    "\n",
    "print(total_sum)\n"
   ]
  },
  {
   "cell_type": "raw",
   "metadata": {},
   "source": [
    "Q7: Concat all str datatypes with hyphen as a delimiter\n",
    "    [2, 3, 'Py', '10', 1, 'SQL', 5.5, True, 3, 'John', None, 7] "
   ]
  },
  {
   "cell_type": "code",
   "execution_count": 5,
   "metadata": {},
   "outputs": [
    {
     "name": "stdout",
     "output_type": "stream",
     "text": [
      "Py-10-SQL-John\n"
     ]
    }
   ],
   "source": [
    "data = [2, 3, 'Py', '10', 1, 'SQL', 5.5, True, 3, 'John', None, 7]\n",
    "\n",
    "concatenated_string = '-'.join(item for item in data if isinstance(item, str))\n",
    "\n",
    "print(concatenated_string)\n"
   ]
  },
  {
   "cell_type": "raw",
   "metadata": {},
   "source": [
    "Q8 Get only odd numbers from the following list and store the numbers in new list\n",
    "    li = [5, 7, 22, 97, 54, 62, 77, 23, 73, 61]\n",
    "\n",
    "    i. Use loops to get the answer\n",
    "   ii. Use list comprehensions\n",
    "  iii. Use lambda function with filter"
   ]
  },
  {
   "cell_type": "code",
   "execution_count": 6,
   "metadata": {},
   "outputs": [
    {
     "name": "stdout",
     "output_type": "stream",
     "text": [
      "[5, 7, 97, 77, 23, 73, 61]\n"
     ]
    }
   ],
   "source": [
    "li = [5, 7, 22, 97, 54, 62, 77, 23, 73, 61]\n",
    "\n",
    "# Using a loop to get odd numbers\n",
    "odd_numbers_loop = []\n",
    "for num in li:\n",
    "    if num % 2 != 0:\n",
    "        odd_numbers_loop.append(num)\n",
    "\n",
    "print(odd_numbers_loop)\n"
   ]
  },
  {
   "cell_type": "code",
   "execution_count": 7,
   "metadata": {},
   "outputs": [
    {
     "name": "stdout",
     "output_type": "stream",
     "text": [
      "[5, 7, 97, 77, 23, 73, 61]\n"
     ]
    }
   ],
   "source": [
    "# Using list comprehensions to get odd numbers\n",
    "odd_numbers_comprehension = [num for num in li if num % 2 != 0]\n",
    "\n",
    "print(odd_numbers_comprehension)\n"
   ]
  },
  {
   "cell_type": "code",
   "execution_count": 8,
   "metadata": {},
   "outputs": [
    {
     "name": "stdout",
     "output_type": "stream",
     "text": [
      "[5, 7, 97, 77, 23, 73, 61]\n"
     ]
    }
   ],
   "source": [
    "# Using lambda function with filter to get odd numbers\n",
    "odd_numbers_lambda = list(filter(lambda x: x % 2 != 0, li))\n",
    "\n",
    "print(odd_numbers_lambda)\n"
   ]
  },
  {
   "cell_type": "raw",
   "metadata": {},
   "source": [
    "Q9: Write an udf to calculate the area of different shapes\n",
    "\n",
    "Take shape and dimensions as arguments to udf as follows : \n",
    "\n",
    "1. square which has side\n",
    "2. rectangle which has length and width\n",
    "3. circle which has radius\n",
    "\n",
    "The shape should be a positional argument and it's dimensions are taken as kwargs\n",
    "\n",
    "Perform proper validation for the user inputs and then calculate area.\n",
    "\n",
    "E.g. if shape is square, ensure kwargs has \"side\" and if so, then you may return the area, else display appropriate error message like \"Please enter 'side' for a square\""
   ]
  },
  {
   "cell_type": "code",
   "execution_count": 9,
   "metadata": {},
   "outputs": [
    {
     "name": "stdout",
     "output_type": "stream",
     "text": [
      "16\n",
      "15\n",
      "153.9384\n",
      "Please enter 'radius' for a circle.\n"
     ]
    }
   ],
   "source": [
    "def calculate_area(shape, **kwargs):\n",
    "    # Convert shape to lowercase for case-insensitive comparison\n",
    "    shape = shape.lower()\n",
    "\n",
    "    # Calculate area for square\n",
    "    if shape == \"square\":\n",
    "        if \"side\" in kwargs:\n",
    "            side = kwargs['side']\n",
    "            if side > 0:\n",
    "                return side ** 2\n",
    "            else:\n",
    "                return \"Side length must be greater than zero.\"\n",
    "        else:\n",
    "            return \"Please enter 'side' for a square.\"\n",
    "\n",
    "    # Calculate area for rectangle\n",
    "    elif shape == \"rectangle\":\n",
    "        if \"length\" in kwargs and \"width\" in kwargs:\n",
    "            length = kwargs['length']\n",
    "            width = kwargs['width']\n",
    "            if length > 0 and width > 0:\n",
    "                return length * width\n",
    "            else:\n",
    "                return \"Length and width must be greater than zero.\"\n",
    "        else:\n",
    "            return \"Please enter both 'length' and 'width' for a rectangle.\"\n",
    "\n",
    "    # Calculate area for circle\n",
    "    elif shape == \"circle\":\n",
    "        if \"radius\" in kwargs:\n",
    "            radius = kwargs['radius']\n",
    "            if radius > 0:\n",
    "                return 3.1416 * (radius ** 2)\n",
    "            else:\n",
    "                return \"Radius must be greater than zero.\"\n",
    "        else:\n",
    "            return \"Please enter 'radius' for a circle.\"\n",
    "\n",
    "    else:\n",
    "        return \"Unsupported shape. Please choose 'square', 'rectangle', or 'circle'.\"\n",
    "\n",
    "print(calculate_area('square', side=4))      \n",
    "print(calculate_area('rectangle', length=5, width=3))  \n",
    "print(calculate_area('circle', radius=7))    \n",
    "print(calculate_area('circle'))              \n",
    "\n",
    "    "
   ]
  },
  {
   "cell_type": "raw",
   "metadata": {
    "collapsed": true,
    "jupyter": {
     "outputs_hidden": true
    }
   },
   "source": [
    "Q10: write a UDF to check if a number is prime or not."
   ]
  },
  {
   "cell_type": "code",
   "execution_count": 11,
   "metadata": {},
   "outputs": [
    {
     "name": "stdout",
     "output_type": "stream",
     "text": [
      "11 is a prime number.\n",
      "15 is not a prime number.\n",
      "1 is not a prime number.\n",
      "2 is a prime number.\n"
     ]
    }
   ],
   "source": [
    "def is_prime(number):\n",
    "    \n",
    "    if number <= 1:\n",
    "        return f\"{number} is not a prime number.\"\n",
    "\n",
    "    for i in range(2, int(number**0.5) + 1):\n",
    "        if number % i == 0:\n",
    "            return f\"{number} is not a prime number.\"\n",
    "\n",
    "    return f\"{number} is a prime number.\"\n",
    "\n",
    "print(is_prime(11))  \n",
    "print(is_prime(15))  \n",
    "print(is_prime(1))\n",
    "print(is_prime(2))  \n"
   ]
  },
  {
   "cell_type": "raw",
   "metadata": {
    "collapsed": true,
    "jupyter": {
     "outputs_hidden": true
    }
   },
   "source": [
    "Q11. Write a program that takes a string and returns reversed string. i.e. if input is \"abcd123\" output should be \"321dcba\""
   ]
  },
  {
   "cell_type": "code",
   "execution_count": 10,
   "metadata": {},
   "outputs": [
    {
     "name": "stdout",
     "output_type": "stream",
     "text": [
      "321dcba\n"
     ]
    }
   ],
   "source": [
    "def reverse_string(input_string):\n",
    "    \"\"\"Return the reversed version of the input string.\"\"\"\n",
    "    # Reverse the string using slicing\n",
    "    reversed_string = input_string[::-1]\n",
    "    return reversed_string\n",
    "\n",
    "input_str = \"abcd123\"\n",
    "output_str = reverse_string(input_str)\n",
    "print(output_str)  # Output: 321dcba\n"
   ]
  },
  {
   "cell_type": "code",
   "execution_count": null,
   "metadata": {},
   "outputs": [],
   "source": []
  }
 ],
 "metadata": {
  "kernelspec": {
   "display_name": "Python 3 (ipykernel)",
   "language": "python",
   "name": "python3"
  },
  "language_info": {
   "codemirror_mode": {
    "name": "ipython",
    "version": 3
   },
   "file_extension": ".py",
   "mimetype": "text/x-python",
   "name": "python",
   "nbconvert_exporter": "python",
   "pygments_lexer": "ipython3",
   "version": "3.12.7"
  },
  "varInspector": {
   "cols": {
    "lenName": 16,
    "lenType": 16,
    "lenVar": 40
   },
   "kernels_config": {
    "python": {
     "delete_cmd_postfix": "",
     "delete_cmd_prefix": "del ",
     "library": "var_list.py",
     "varRefreshCmd": "print(var_dic_list())"
    },
    "r": {
     "delete_cmd_postfix": ") ",
     "delete_cmd_prefix": "rm(",
     "library": "var_list.r",
     "varRefreshCmd": "cat(var_dic_list()) "
    }
   },
   "types_to_exclude": [
    "module",
    "function",
    "builtin_function_or_method",
    "instance",
    "_Feature"
   ],
   "window_display": false
  }
 },
 "nbformat": 4,
 "nbformat_minor": 4
}
